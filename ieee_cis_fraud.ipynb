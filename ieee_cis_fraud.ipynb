{
  "nbformat": 4,
  "nbformat_minor": 0,
  "metadata": {
    "colab": {
      "name": "ieee-cis-fraud.ipynb",
      "version": "0.3.2",
      "provenance": [],
      "machine_shape": "hm",
      "include_colab_link": true
    },
    "kernelspec": {
      "name": "python3",
      "display_name": "Python 3"
    },
    "accelerator": "GPU"
  },
  "cells": [
    {
      "cell_type": "markdown",
      "metadata": {
        "id": "view-in-github",
        "colab_type": "text"
      },
      "source": [
        "<a href=\"https://colab.research.google.com/github/k-vamshi/ieee-cis/blob/master/ieee_cis_fraud.ipynb\" target=\"_parent\"><img src=\"https://colab.research.google.com/assets/colab-badge.svg\" alt=\"Open In Colab\"/></a>"
      ]
    },
    {
      "cell_type": "code",
      "metadata": {
        "id": "l2HSniCjIVIu",
        "colab_type": "code",
        "colab": {}
      },
      "source": [
        "from google.colab import files\n",
        "files.upload()"
      ],
      "execution_count": 0,
      "outputs": []
    },
    {
      "cell_type": "code",
      "metadata": {
        "id": "4f9wIMVWJZMR",
        "colab_type": "code",
        "colab": {}
      },
      "source": [
        "!pip install -q kaggle"
      ],
      "execution_count": 0,
      "outputs": []
    },
    {
      "cell_type": "code",
      "metadata": {
        "id": "GJIJMRneJjzR",
        "colab_type": "code",
        "colab": {}
      },
      "source": [
        "!mkdir -p ~/.kaggle\n",
        "!cp kaggle.json ~/.kaggle/"
      ],
      "execution_count": 0,
      "outputs": []
    },
    {
      "cell_type": "code",
      "metadata": {
        "id": "02iojsYAJ01-",
        "colab_type": "code",
        "colab": {}
      },
      "source": [
        " !kaggle competitions download -c IEEE-Fraud-detection --force"
      ],
      "execution_count": 0,
      "outputs": []
    },
    {
      "cell_type": "code",
      "metadata": {
        "id": "tSSWchJBKwmC",
        "colab_type": "code",
        "colab": {}
      },
      "source": [
        "!kaggle datasets list -s ieee-fraud-detection"
      ],
      "execution_count": 0,
      "outputs": []
    },
    {
      "cell_type": "code",
      "metadata": {
        "id": "-39vpnVfLMXM",
        "colab_type": "code",
        "colab": {}
      },
      "source": [
        "!unzip train_transaction.csv.zip -d train\n",
        "!unzip train_identity.csv.zip -d train\n",
        "!unzip test_transaction.csv.zip -d test\n",
        "!unzip test_identity.csv.zip -d test\n",
        "!unzip sample_submission.csv.zip"
      ],
      "execution_count": 0,
      "outputs": []
    },
    {
      "cell_type": "code",
      "metadata": {
        "id": "x-YxC6a5NPdb",
        "colab_type": "code",
        "colab": {}
      },
      "source": [
        "import numpy as np\n",
        "import pandas as pd"
      ],
      "execution_count": 0,
      "outputs": []
    },
    {
      "cell_type": "code",
      "metadata": {
        "id": "wrIn67JTNaND",
        "colab_type": "code",
        "colab": {}
      },
      "source": [
        "from sklearn import preprocessing\n",
        "import xgboost as xgb"
      ],
      "execution_count": 0,
      "outputs": []
    },
    {
      "cell_type": "code",
      "metadata": {
        "id": "YgfMMTvINdnr",
        "colab_type": "code",
        "colab": {}
      },
      "source": [
        "train_transaction = pd.read_csv('train/train_transaction.csv', index_col='TransactionID')\n",
        "test_transaction = pd.read_csv('test/test_transaction.csv', index_col='TransactionID')\n",
        "\n",
        "train_identity = pd.read_csv('train/train_identity.csv', index_col='TransactionID')\n",
        "test_identity = pd.read_csv('test/test_identity.csv', index_col='TransactionID')\n",
        "\n",
        "sample_submission = pd.read_csv('sample_submission.csv', index_col='TransactionID')"
      ],
      "execution_count": 0,
      "outputs": []
    },
    {
      "cell_type": "code",
      "metadata": {
        "id": "-R5KSU88Ny6r",
        "colab_type": "code",
        "colab": {}
      },
      "source": [
        "train = train_transaction.merge(train_identity, how='left', left_index=True, right_index=True)\n",
        "test = test_transaction.merge(test_identity, how='left', left_index=True, right_index=True)\n",
        "\n",
        "print(train.shape)\n",
        "print(test.shape)\n",
        "\n",
        "y_train = train['isFraud'].copy()\n",
        "\n",
        "# Drop target, fill in NaNs\n",
        "X_train = train.drop('isFraud', axis=1)\n",
        "X_test = test.copy()\n",
        "X_train = X_train.fillna(-999)\n",
        "X_test = X_test.fillna(-999)"
      ],
      "execution_count": 0,
      "outputs": []
    },
    {
      "cell_type": "code",
      "metadata": {
        "id": "XFxAGKUJO-L_",
        "colab_type": "code",
        "colab": {}
      },
      "source": [
        "del train, test, train_transaction, train_identity, test_transaction, test_identity"
      ],
      "execution_count": 0,
      "outputs": []
    },
    {
      "cell_type": "code",
      "metadata": {
        "id": "_vPiiHxfPAl8",
        "colab_type": "code",
        "colab": {}
      },
      "source": [
        "# Label Encoding\n",
        "for f in X_train.columns:\n",
        "    if X_train[f].dtype=='object' or X_test[f].dtype=='object': \n",
        "        lbl = preprocessing.LabelEncoder()\n",
        "        lbl.fit(list(X_train[f].values) + list(X_test[f].values))\n",
        "        X_train[f] = lbl.transform(list(X_train[f].values))\n",
        "        X_test[f] = lbl.transform(list(X_test[f].values)) "
      ],
      "execution_count": 0,
      "outputs": []
    },
    {
      "cell_type": "code",
      "metadata": {
        "id": "4V9QRhGtPYLQ",
        "colab_type": "code",
        "colab": {}
      },
      "source": [
        "clf = xgb.XGBClassifier(n_estimators=500,\n",
        "                        n_jobs=4,\n",
        "                        max_depth=9,\n",
        "                        learning_rate=0.05,\n",
        "                        subsample=0.7,\n",
        "                        colsample_bytree=0.7,\n",
        "                        missing=-999, \n",
        "                        gamma = 0.1,\n",
        "                        verbose = 1)\n",
        "\n",
        "clf.fit(X_train, y_train)"
      ],
      "execution_count": 0,
      "outputs": []
    },
    {
      "cell_type": "code",
      "metadata": {
        "id": "rvKjQ71RPcgC",
        "colab_type": "code",
        "colab": {}
      },
      "source": [
        "sample_submission['isFraud'] = clf.predict_proba(X_test)[:,1]\n",
        "sample_submission.to_csv('simple_xgboost.csv')"
      ],
      "execution_count": 0,
      "outputs": []
    }
  ]
}